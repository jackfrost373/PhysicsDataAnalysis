{
 "cells": [
  {
   "cell_type": "markdown",
   "metadata": {
    "id": "Oe9SQUuVgkEy"
   },
   "source": [
    "### GW tutorial bonus track: Antenna pattern and redshift horizon\n"
   ]
  },
  {
   "cell_type": "markdown",
   "metadata": {},
   "source": [
    "Author: Melissa Lopez\n",
    "\n",
    "Email: m.lopez@uu.nl"
   ]
  },
  {
   "cell_type": "code",
   "execution_count": null,
   "metadata": {},
   "outputs": [],
   "source": [
    "from pycbc.waveform import get_fd_waveform\n",
    "from pycbc.cosmology import _redshift\n",
    "import numpy as np\n",
    "import pycbc.psd\n",
    "import matplotlib.pyplot as plt\n",
    "from scipy.interpolate import interp1d\n",
    "import matplotlib.pyplot as plt"
   ]
  },
  {
   "cell_type": "markdown",
   "metadata": {
    "id": "-MYeI1LZmFod"
   },
   "source": [
    "#### Network antenna patterns"
   ]
  },
  {
   "cell_type": "markdown",
   "metadata": {
    "id": "Q4Q-aXRMUGnW"
   },
   "source": [
    "For an L shape detector such as current Advanced LIGO and Advanced Virgo the output of the detector\n",
    "\n",
    "$h(t) =  h_{+}(t)F_{+}(\\theta, \\phi, \\psi) + h_{\\times}(t)F_{\\times}(\\theta, \\phi, \\psi)$\n",
    "\n",
    "where $F_{+}$ and $F_{\\times}$ represent the antenna pattern defined as\n",
    "\n",
    "$F_{+}(\\theta, \\phi, \\psi) = \\frac{1}{2}(1+ \\cos^2{\\theta}) \\cos{2\\phi}\\cos{2\\psi}  - \\cos{\\theta}\\sin{2\\phi}\\sin{2\\psi},$\n",
    "\n",
    "$F_{\\times}(\\theta, \\phi, \\psi) = \\frac{1}{2}(1+ \\cos^2{\\theta}) \\cos{2\\phi}\\sin{2\\psi}  - \\cos{\\theta}\\sin{2\\phi}\\cos{2\\psi}.$\n",
    "\n",
    "Note that $\\theta$ is the latitute and $\\phi$ is the longitude that indicate the direction of propagation while $\\psi$ is the polarization angle of the incoming gravitational wave.\n",
    "\n"
   ]
  },
  {
   "cell_type": "markdown",
   "metadata": {
    "id": "HgHv4Bm0Qqml"
   },
   "source": [
    "**Excercise 1:** Return the antenna pattern factors $F_{+}$ and $F_{x}$ as a function of sky location and polarization angle for a hypothetical interferometer located at the north pole.\n",
    "\n",
    "Angles are in radians. Declinations of $\\pm \\pi/2$ correspond to the normal to the detector plane (i.e. overhead and underneath) while the point with zero right ascension and declination is the direction of one of the interferometer arms.\n",
    "\n",
    "Define a function `antenna_pattern_L` with parameters `theta, phi, psi ` that returns `f_plus` and `f_cross`\n"
   ]
  },
  {
   "cell_type": "code",
   "execution_count": null,
   "metadata": {},
   "outputs": [],
   "source": []
  },
  {
   "cell_type": "markdown",
   "metadata": {
    "id": "0zoVrpsPWGRu"
   },
   "source": [
    "For a triangle Einstein Telescope it can be demonstrated (see [here](https://arxiv.org/pdf/1201.3563) Eq. 9 and 10) that with a $\\pi/3$ opening angle for a single arm can be rewritten as\n",
    "\n",
    "$F^{1}_{+}(\\theta, \\phi, \\psi) = -\\frac{\\sqrt{3}}{4}[(1+ \\cos^2{\\theta}) \\sin{2\\phi}\\cos{2\\psi}  + 2\\cos{\\theta}\\cos{2\\phi}\\sin{2\\psi}],$\n",
    "\n",
    "$F^{1}_{\\times}(\\theta, \\phi, \\psi) = \\frac{\\sqrt{3}}{4}[(1+ \\cos^2{\\theta}) \\sin{2\\phi}\\sin{2\\psi}  + 2\\cos{\\theta}\\cos{2\\phi}\\cos{2\\psi}].$\n",
    "\n",
    "Note that the relation to the other two arms are:\n",
    "\n",
    "$F^{2}_{+, \\times}(\\theta, \\phi, \\psi) = F^{1}_{+, \\times}(\\theta, \\phi + 2\\pi/3, \\psi),$\n",
    "\n",
    "$F^{3}_{+, \\times}(\\theta, \\phi, \\psi) =  F^{1}_{+, \\times}(\\theta, \\phi - 2\\pi/3, \\psi).$"
   ]
  },
  {
   "cell_type": "markdown",
   "metadata": {
    "id": "_mx-yX25X2Eg"
   },
   "source": [
    "**Excercise 2:** Similarly to the previous exercise, return the antenna pattern factors $F_{+}$ and $F_{x}$.\n",
    "\n",
    "Define a function `antenna_pattern_ET_1` with parameters `theta, phi, psi ` that returns `f_plus` and `f_cross`.\n",
    "\n",
    "If the joint reponse is given by $F_{+, \\times} = \\sum^{3}_{A=1} F^{A}_{+, \\times}$ can you write a function called `antenna_pattern_joint_ET` that returns `f_plus_joint` and `f_cross_joint`?\n"
   ]
  },
  {
   "cell_type": "code",
   "execution_count": null,
   "metadata": {},
   "outputs": [],
   "source": []
  },
  {
   "cell_type": "markdown",
   "metadata": {},
   "source": [
    "The full configuration of Einstein Telescope is still unknown but a triangle is not the only option. We hypothesize that\n",
    "\n",
    "- A single 'L'\n",
    "\n",
    "- 2 'L' rotated $3\\pi/4$ with respect to each other\n",
    "\n",
    "**Exercise 3:** Can you write down the functions `antenna_pattern_joint_ET_1L` and `antenna_pattern_joint_ET_2L_45deg`?"
   ]
  },
  {
   "cell_type": "code",
   "execution_count": null,
   "metadata": {
    "id": "v75C2D17od8m"
   },
   "outputs": [],
   "source": []
  },
  {
   "cell_type": "markdown",
   "metadata": {
    "id": "GjMtOecxdMd5"
   },
   "source": [
    "For a gravitational wave from a binary, the signal depends on the inclination angle $\\iota$. In particular, this contribution can be expressed as (see [here](https://arxiv.org/pdf/1201.3563) Eq. 23),\n",
    "\n",
    "$\\mathcal{F} = \\sum_{A}[\\frac{1}{4}(1 + \\cos^2 \\iota^2)(F_{+}^{A})^{2} + \\cos^{2}\\iota (F_{+}^{A})^{2}  ]$.\n",
    "\n",
    "**Exercise 4:** Return $\\mathcal{F}$ in a function called `antenna_pattern_joint_ET_binary` that needs these parameters `theta, phi, psi, iota, antenna_pattern`. Note that `antenna_pattern` is a function that will be specified later.\n"
   ]
  },
  {
   "cell_type": "code",
   "execution_count": null,
   "metadata": {
    "id": "DqqA7eaIdJVE"
   },
   "outputs": [],
   "source": []
  },
  {
   "cell_type": "markdown",
   "metadata": {},
   "source": [
    "We want to compute the SNR distribution of a set of GW signals from equal mass binary black holes. From previous tutorials we learnt to generate waveforms with `get_fd_waveform` and compute the SNR timeseries with `matched_filter` functions. \n",
    "\n",
    "**Exercise 5:** Create a function `waveform_snrs` that generates a set of waveforms and computes their optimal SNR $(h_{+}|h_{+})$. You will need the following parameters.\n",
    "\n",
    "_Hint_: You need to return the maximum of the real part of the SNR (a single value per waveform)."
   ]
  },
  {
   "cell_type": "code",
   "execution_count": null,
   "metadata": {},
   "outputs": [],
   "source": [
    "m1 = np.arange(0.5, 4000, 5)\n",
    "m2 = m1\n",
    "delta_f = 1.0/16.\n",
    "dist = 1000\n",
    "flow = 3\n",
    "sample_rate = 8192.\n",
    "flen = int(sample_rate/ (delta_f)) + 1"
   ]
  },
  {
   "cell_type": "code",
   "execution_count": null,
   "metadata": {},
   "outputs": [],
   "source": []
  },
  {
   "cell_type": "markdown",
   "metadata": {},
   "source": [
    "**Exercise 6:** Also, from previous tutorials we learnt to load PSDs. Load the Einstein Telescope PSD, called `PSD`, and remove badly behaved values"
   ]
  },
  {
   "cell_type": "code",
   "execution_count": null,
   "metadata": {},
   "outputs": [],
   "source": []
  },
  {
   "cell_type": "markdown",
   "metadata": {},
   "source": [
    "# Network of detectors \n",
    "\n",
    "Here our aim is to study different possible configuration of Einstein Telescope\n",
    "\n",
    "1. ET - triangle , arm length 10km `(label = 'ET triangle 10km')`\n",
    "\n",
    "2. ET - single 'L' with 15 km arm length 15 km `(label = 'ET 1L 15km')`\n",
    "\n",
    "3. ET - 2 'L's with 45^deg rotated w.r.t each other, arm length 7.5km `(label = 'ET 2L 7.5km')`\n",
    "\n",
    "4. ET - 2 'L's with 45^deg rotated w.r.t each other, arm length 15km `(label = 'ET 2L 15km')`\n",
    "\n",
    "We want to understand which configuration would have better sensitivity, so we plot the redshift of the hypothetically observed GW signal distribution as a function of the total mass."
   ]
  },
  {
   "cell_type": "code",
   "execution_count": null,
   "metadata": {},
   "outputs": [],
   "source": [
    "# Some helper functions\n",
    "def get_percentiles(thetas, phis, psi, iotas, antenna_pattern):\n",
    "    \"\"\"\n",
    "    Calculate specified percentiles (10th, 50th, 90th) and the maximum value\n",
    "    of the antenna pattern response for given input parameters.\n",
    "\n",
    "    Args:\n",
    "        thetas (list): List of theta angles.\n",
    "        phis (list): List of phi angles.\n",
    "        psi (float): Polarization angle.\n",
    "        iotas (float): Inclination angle.\n",
    "        antenna_pattern (callable): Function to compute the antenna pattern response.\n",
    "\n",
    "    Returns:\n",
    "        list: Percentiles [10th, 50th, 90th] and maximum value of the response.\n",
    "    \"\"\"\n",
    "    Fs = list()\n",
    "    for theta, phi in zip(thetas, phis):\n",
    "        # Calculate the antenna pattern response for each (theta, phi) pair.\n",
    "        F = antenna_pattern_ET_joint_binary(theta, phi, psi, iotas, antenna_pattern)\n",
    "        Fs.extend(F)\n",
    "\n",
    "    Fs = np.asarray(Fs)\n",
    "\n",
    "    percentiles = list()\n",
    "    for p in [10, 50, 90]:\n",
    "        # Calculate specified percentiles of the responses.\n",
    "        percentiles.append(np.percentile(Fs, p))\n",
    "\n",
    "    # Append the maximum response value.\n",
    "    percentiles.extend([max(Fs)])\n",
    "    return percentiles\n",
    "\n",
    "def horizon_distance(snrs, percentiles):\n",
    "    \"\"\"\n",
    "    Compute the horizon distance of the detector based on signal-to-noise ratios (SNRs)\n",
    "    and antenna pattern factors (percentiles of F_rms).\n",
    "\n",
    "    Args:\n",
    "        snrs (list or array): Signal-to-noise ratios.\n",
    "        percentiles (list): Percentile values of F_rms (10%, 50%, 90%, max).\n",
    "\n",
    "    Returns:\n",
    "        list: Redshift values corresponding to the horizon distances.\n",
    "    \"\"\"\n",
    "    redshifts = list()\n",
    "    for p in percentiles:\n",
    "        # Calculate redshift using the specified formula.\n",
    "        redshifts.append(_redshift(snrs * p ** 0.5 * 1000 / 8.0))\n",
    "    return redshifts\n",
    "\n",
    "def interpolation(mass, total_mass, redshifts):\n",
    "    \"\"\"\n",
    "    Interpolate redshift values as a function of mass and total mass.\n",
    "\n",
    "    Args:\n",
    "        mass (array): Array of mass values.\n",
    "        total_mass (float): Total mass value for interpolation.\n",
    "        redshifts (list): Redshift values to interpolate over.\n",
    "\n",
    "    Returns:\n",
    "        list: Interpolated redshift values for the total mass.\n",
    "    \"\"\"\n",
    "    interpolations = list()\n",
    "    for R in redshifts:\n",
    "        # Perform cubic interpolation of redshift values.\n",
    "        f = interp1d(mass / (1 + R), R, kind='cubic')\n",
    "        R_interpolated = f(total_mass)\n",
    "        interpolations.append(R_interpolated)\n",
    "    return interpolations\n"
   ]
  },
  {
   "cell_type": "code",
   "execution_count": null,
   "metadata": {},
   "outputs": [],
   "source": [
    "# Parameters\n",
    "\n",
    "# Random sky locations with null polarization\n",
    "thetas = np.arccos(np.random.uniform(0, 1, 100))\n",
    "phis = np.random.uniform(0, 2 * np.pi , 100)\n",
    "iotas = np.arccos(np.linspace(-1, 1 , 100))\n",
    "psi = 0\n",
    "\n",
    "# Masses\n",
    "\n",
    "mass = m1 + m2\n",
    "total_mass = np.linspace(1, 1e3, 1000)"
   ]
  },
  {
   "cell_type": "markdown",
   "metadata": {},
   "source": [
    "**Exercise 7:** Which ET configuration would be better according to these plots? "
   ]
  },
  {
   "cell_type": "code",
   "execution_count": null,
   "metadata": {
    "colab": {
     "base_uri": "https://localhost:8080/"
    },
    "id": "ujq_P7YYi6Ag",
    "outputId": "6903e45e-814e-43c9-80df-20c612f46812"
   },
   "outputs": [],
   "source": [
    "scales = [10, 15, 7.5, 15] # lenght of the arms\n",
    "antenna_patterns = [antenna_pattern_joint_ET, antenna_pattern_joint_ET_1L,\n",
    "                   antenna_pattern_joint_ET_2L_45deg,\n",
    "                   antenna_pattern_joint_ET_2L_45deg ]\n",
    "labels = ['ET triangle 10km', 'ET 1L 15km', 'ET 2L 7.5km', 'ET 2L 15km']\n",
    "colors = ['grey', 'darkorange', 'mediumseagreen', 'orchid']\n",
    "\n",
    "fig = plt.figure(figsize=(8, 6))\n",
    "for scale, antenna_pattern, color, label in zip(scales, antenna_patterns, colors, labels): \n",
    "    # The PSD is defined for 10km so we rescale according to the lenght of the arms\n",
    "    psd =  PSD * ((10.0/scale)**2)\n",
    "    \n",
    "    # We compute the antenna pattern and get 10, 50, 90 percentile and its maximum\n",
    "    percentiles = get_percentiles(thetas, phis, psi, iotas, antenna_pattern)\n",
    "    \n",
    "    # We compute the SNR of the binary black hole population\n",
    "    snrs = waveform_snrs(m1, m2, delta_f, dist, flow, sample_rate, psd)\n",
    "    \n",
    "    # We compute the redshift for the population and the given percentiles\n",
    "    redshifts = horizon_distance(snrs, percentiles)\n",
    "    \n",
    "    # We interpolate for the total mass\n",
    "    Rs = interpolation(mass, total_mass, redshifts)\n",
    "    \n",
    "    if color == 'grey':\n",
    "        plt.loglog(total_mass, Rs[3], color=color, label=label)\n",
    "        plt.loglog(total_mass, Rs[3], color=color, label='horizon redshift')\n",
    "        plt.fill_between(total_mass , Rs[3],Rs[0],color=color,alpha=.6, label = '10% best sources', zorder=10)\n",
    "        plt.fill_between(total_mass , Rs[0], Rs[1],color=color, alpha=.4, label = '50% best sources', zorder=10)\n",
    "    else: \n",
    "        plt.loglog(total_mass, Rs[3], color=color, label=label)\n",
    "        plt.fill_between(total_mass , Rs[3],Rs[0],color=color,alpha=.6)\n",
    "        plt.fill_between(total_mass , Rs[0], Rs[1],color=color, alpha=.4)\n",
    "    plt.ylabel('Redshift(Z)', size = 12)\n",
    "    plt.xlabel('Total Source Frame Mass(m1 + m2)', size = 12)\n",
    "    plt.ylim(0.1, 300)\n",
    "    plt.xlim(1, 1e3)\n",
    "    plt.grid(which='major', alpha=0.7)\n",
    "    plt.grid(which='minor', alpha=0.2)\n",
    "    plt.legend(fontsize=10)"
   ]
  },
  {
   "cell_type": "markdown",
   "metadata": {},
   "source": [
    "You made it to the end of the tutorial including the bonus track. Impressive! I honestly do not have anything else for today, so you are all done. \n",
    "\n",
    "If you want we can still have a chat about GW data analysis!"
   ]
  },
  {
   "cell_type": "code",
   "execution_count": null,
   "metadata": {},
   "outputs": [],
   "source": []
  }
 ],
 "metadata": {
  "colab": {
   "provenance": []
  },
  "kernelspec": {
   "display_name": "gw_class",
   "language": "python",
   "name": "gw_class"
  },
  "language_info": {
   "codemirror_mode": {
    "name": "ipython",
    "version": 3
   },
   "file_extension": ".py",
   "mimetype": "text/x-python",
   "name": "python",
   "nbconvert_exporter": "python",
   "pygments_lexer": "ipython3",
   "version": "3.10.16"
  }
 },
 "nbformat": 4,
 "nbformat_minor": 4
}
