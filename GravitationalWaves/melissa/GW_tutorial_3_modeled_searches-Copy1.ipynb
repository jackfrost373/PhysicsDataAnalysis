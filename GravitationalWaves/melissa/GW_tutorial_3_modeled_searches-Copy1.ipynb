{
 "cells": [
  {
   "cell_type": "markdown",
   "metadata": {
    "id": "Oe9SQUuVgkEy",
    "tags": []
   },
   "source": [
    "### GW tutorial 3: Generation of data and matched filtering"
   ]
  },
  {
   "cell_type": "markdown",
   "metadata": {},
   "source": [
    "Author: Melissa Lopez\n",
    "\n",
    "Email: m.lopez@uu.nl"
   ]
  },
  {
   "cell_type": "code",
   "execution_count": null,
   "metadata": {
    "colab": {
     "base_uri": "https://localhost:8080/"
    },
    "id": "0NeSv96NLLDw",
    "outputId": "2c5a816d-0e6e-42ca-82eb-e7c2be870f8d"
   },
   "outputs": [],
   "source": [
    "%matplotlib inline\n",
    "from pycbc.catalog import Merger\n",
    "import pycbc.psd, pycbc.noise\n",
    "import pylab\n",
    "import matplotlib.pyplot as plt\n",
    "import numpy as np\n",
    "from pycbc.waveform import get_td_waveform\n",
    "from pycbc.detector import Detector\n",
    "import random"
   ]
  },
  {
   "cell_type": "markdown",
   "metadata": {},
   "source": [
    "Previously, we have plotted the PSD of different detectors. Some PSDs are from previous runs (O3), while some others are the design sensitivity of future detectors.\n",
    "\n",
    "The PSD characterizes the noise of the detector, so we can generate detector noise accordingly."
   ]
  },
  {
   "cell_type": "markdown",
   "metadata": {},
   "source": [
    "**Exercise 1:** Load the `aligo_O4high.txt` PSD to [generate](https://pycbc.org/pycbc/latest/html/pycbc.noise.html#pycbc.noise.gaussian.noise_from_psd) some Gaussian data.\n",
    "\n",
    "_Hint:_ Minimum frequency is 10 Hz, sampling rate 4096 Hz and we want 20s of duration"
   ]
  },
  {
   "cell_type": "code",
   "execution_count": null,
   "metadata": {},
   "outputs": [],
   "source": []
  },
  {
   "cell_type": "markdown",
   "metadata": {},
   "source": [
    "As you can see. the generated noise is \"coloured\" according to the detector noise. Now, we would like to add a simulated gravitational wave signal in our detector noise. \n",
    "\n",
    "**Exercise 2:** Using [this function](https://pycbc.org/pycbc/latest/html/pycbc.waveform.html#pycbc.waveform.waveform.get_td_waveform) to generate waveforms in time domain, provide the plus and cross polarization of a binary black hole merger of $m_{1} = m_{2} = 50$ at 2000 Mpc. Use the waveform approximant \"IMRPhenomD\". How does the waveform amplitude compare to the detector noise?\n",
    "\n",
    "The waveform comes from the source, but it needs to be projected in the detector. [Project](https://pycbc.org/pycbc/latest/html/pycbc.detector.html#pycbc.detector.ground.Detector.project_wave) the waveform on LIGO Livingston (L1) at random sky-location and polarization. You can specify your detector with [this](https://pycbc.org/pycbc/latest/html/pycbc.detector.html#pycbc.detector.ground.Detector) function. How does the waveform change because of this projection?\n",
    "\n",
    "_Hint:_ Right ascension range is $[0, 2\\pi]$, declination is $[-2\\pi, 2\\pi]$ and polarization is $[0, 2\\pi]$."
   ]
  },
  {
   "cell_type": "code",
   "execution_count": null,
   "metadata": {},
   "outputs": [],
   "source": []
  },
  {
   "cell_type": "markdown",
   "metadata": {},
   "source": [
    "**Exercise 2:** From before our detector noise is 20s long. Add the GW into noise after 5s. We also need to get the first 4s to estimate the PSD in the next excercise. Make an overlaid plot with the total data, the portion of data where the GW is added and the data needed to estimate the PSD. \n",
    "\n",
    "_Bonus:_ Can you also plot the GW signal? \n"
   ]
  },
  {
   "cell_type": "code",
   "execution_count": null,
   "metadata": {},
   "outputs": [],
   "source": []
  },
  {
   "cell_type": "markdown",
   "metadata": {},
   "source": [
    "**Exercise 3:** In a proper search we do not really have the PSD handy. We want to estimate the PSD with Welch's method (see [here](https://ccrma.stanford.edu/~jos/sasp/Welch_s_Method.html) for details), but we want to use the 4s of the beginning where the GW is not present using [this function](https://pycbc.org/pycbc/latest/html/pycbc.psd.html#pycbc.psd.estimate.welch). Plot the estimated PSD. Note that before we used a dummy whitening, and this one is a bit better.\n",
    "\n",
    "What is the $\\Delta_f$ of the estimated PSD? What is $\\Delta_f$ of the data we want to whiten to see the GW signal?\n",
    "\n",
    "_Hint:_ `seg_stride (int)` is usually half of `seg_len`.\n"
   ]
  },
  {
   "cell_type": "code",
   "execution_count": null,
   "metadata": {},
   "outputs": [],
   "source": []
  },
  {
   "cell_type": "markdown",
   "metadata": {},
   "source": [
    "Now that we have the PSD we need to interpolate it to match our data and then limit the filter length of 1 / PSD. After this, we can directly use this PSD to filter the data. Since the data has been highpassed above 12 Hz, and will have low values below this we need to informat the function to not include frequencies below this frequency. \n",
    "\n",
    "**Exercise 4:** Use the functions [interpolate](https://pycbc.org/pycbc/latest/html/pycbc.psd.html#pycbc.psd.estimate.interpolate) and [inverse_spectrum_truncation](https://pycbc.org/pycbc/latest/html/pycbc.psd.html#pycbc.psd.estimate.inverse_spectrum_truncation) to achieve a proper formatting of the PSD.\n",
    "\n",
    "_Hint:_ `max_filter_len (int)` is $4 \\times$ sampling_rate. Note that the original PSD has a minimum frequency of 12Hz."
   ]
  },
  {
   "cell_type": "code",
   "execution_count": null,
   "metadata": {},
   "outputs": [],
   "source": []
  },
  {
   "cell_type": "markdown",
   "metadata": {},
   "source": [
    "Now that the PSD is ready, we can whiten the data. Before we used a PyCBC function, but mathematically this is defined as\n",
    "\n",
    "\\begin{equation}\n",
    "\\tilde{d_w}(f) = \\tilde{d}(f)/S_{n}^{-1/2}(f)\n",
    "\\end{equation}\n",
    "where $\\tilde{d}$ and $\\tilde{d_w}(f)$ are the Fourier transform of the coloured data and whitened data, respectively.\n",
    "\n",
    "**Exercise 5:** Whiten the data using the interpolated PSD. Crop 5s at the beginning and the end to avoid border effects (_aliasing_) and bandpass it as in the previous exercise. Can you see the GW signal?"
   ]
  },
  {
   "cell_type": "code",
   "execution_count": null,
   "metadata": {},
   "outputs": [],
   "source": []
  },
  {
   "cell_type": "markdown",
   "metadata": {},
   "source": [
    "So far, we buried a GW signal  $h(t)$ in stationary and Gaussian noise $n(t)$ with zero mean, such that $s(t) = h(t) + n(t)$. Given the optimal filter  $K(t)$, \n",
    "\n",
    "\\begin{equation}\n",
    "\\label{eq:filteredsignal}\n",
    "\\hat{s} = \\int_{-\\infty}^{\\infty}  K(t)s(t) dt = \\int_{-\\infty}^{\\infty} \\tilde{K}(f)^{*}\\tilde{s}(f) df, \\quad \\text{ where }  \\tilde{s}(f) = \\int_{-\\infty}^{\\infty} s(t)e^{-2 \\pi i ft}dt\n",
    "\\end{equation}\n",
    "where $\\hat{s}$ is the filtered value of $s(t)$, $^*$ represents the complex conjugate, and $\\tilde{\\cdot }\\ $ the Fourier transform. \n",
    "\n",
    "The detection statistic that is maximised by the optimal filter $K(t)$  will be the SNR, defined as $\\rho = S/N$. $S$ is the expected value of $\\hat{s}$ when $h(t) \\neq 0$, while $N$ is the squared root of the noise variance when $h(t) =0$. It can be demonstrated that the optimal filter $K(t)$ is the model of the GW signal itself, known as _template_.\n",
    "\n",
    "The fundamental modelled detection technique is called \"matched filtering\", since the filter function is chosen to \"match\" the signal we are looking for. We can write the SNR between an unknown time series $s(t)$ and the template $h_{m}$ as\n",
    "\n",
    "\\begin{equation}\n",
    "\\label{eq:wienerscalar}\n",
    "\\rho =  4 \\text{Re} \\int_{0}^{\\infty} \\frac{\\tilde{s}^{*}(f)}{S_{n}(f)} \\tilde{h_{m}}(f) df. \n",
    "\\end{equation}\n",
    "\n",
    "\n",
    "\n",
    "**Exercise 6:** Use the [matched_filter](https://pycbc.org/pycbc/latest/html/pycbc.filter.html#pycbc.filter.matchedfilter.matched_filter) function to filter the coloured data with the template. Crop the SNR time series 5s at each side and plot it together with the whitened data. Where is the GW signal? Note that the y-axis of the whitened data is _amplitude_ and the y-axis of the SNR timeseries is _SNR_.\n",
    "\n",
    "How much is the maximum of the absolute value of the SNR time series? If it is larger than 5 it will generate a \"trigger\" for further analysis. Will the trigger be generated?\n",
    "\n",
    "Note that the parameter space of GW signals is vast, so to find these signals, we will need to create a template bank and do this process for thousands of templates. Then, this becomes a high-performance computing problem!\n",
    "\n",
    "_Hint_: you need to [resize](https://pycbc.org/pycbc/latest/html/pycbc.types.html#pycbc.types.array.Array.resize) the template and use [cyclic_time_shift](https://pycbc.org/pycbc/latest/html/pycbc.types.html#pycbc.types.frequencyseries.FrequencySeries.cyclic_time_shift)"
   ]
  },
  {
   "cell_type": "code",
   "execution_count": null,
   "metadata": {},
   "outputs": [],
   "source": []
  },
  {
   "cell_type": "markdown",
   "metadata": {
    "id": "wSYU6DFeFcpt"
   },
   "source": [
    "Good job arriving at the end of the tutorial! This was a small peak at GW data analysis that I hope you found interesting. \n",
    "\n",
    "There is a bonus track exercise if you are bored, but we can also have a chat about some more GW data analysis if you prefer. "
   ]
  },
  {
   "cell_type": "markdown",
   "metadata": {},
   "source": []
  }
 ],
 "metadata": {
  "colab": {
   "provenance": []
  },
  "kernelspec": {
   "display_name": "gengli_env",
   "language": "python",
   "name": "gengli_env"
  },
  "language_info": {
   "codemirror_mode": {
    "name": "ipython",
    "version": 3
   },
   "file_extension": ".py",
   "mimetype": "text/x-python",
   "name": "python",
   "nbconvert_exporter": "python",
   "pygments_lexer": "ipython3",
   "version": "3.9.16"
  }
 },
 "nbformat": 4,
 "nbformat_minor": 4
}
