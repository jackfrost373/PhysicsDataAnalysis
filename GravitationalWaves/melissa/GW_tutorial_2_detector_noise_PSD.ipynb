{
 "cells": [
  {
   "cell_type": "markdown",
   "metadata": {
    "id": "Oe9SQUuVgkEy",
    "tags": []
   },
   "source": [
    "### GW tutorial 2: Detector noise and GW150914"
   ]
  },
  {
   "cell_type": "markdown",
   "metadata": {},
   "source": [
    "Author: Melissa Lopez\n",
    "\n",
    "Email: m.lopez@uu.nl"
   ]
  },
  {
   "cell_type": "markdown",
   "metadata": {},
   "source": [
    "Note that we are importing some packages to be able to read the data."
   ]
  },
  {
   "cell_type": "code",
   "execution_count": null,
   "metadata": {
    "colab": {
     "base_uri": "https://localhost:8080/"
    },
    "id": "0NeSv96NLLDw",
    "outputId": "2c5a816d-0e6e-42ca-82eb-e7c2be870f8d"
   },
   "outputs": [],
   "source": [
    "%matplotlib inline\n",
    "from pycbc.catalog import Merger\n",
    "import pycbc.psd\n",
    "import pylab\n",
    "import matplotlib.pyplot as plt\n",
    "import numpy as np"
   ]
  },
  {
   "cell_type": "markdown",
   "metadata": {},
   "source": [
    "In the previous part we have seen the detector response to gravitational waves (GW). Currently, we have three ground-based detectors: LIGO Hanford (H1), LIGO Livingston (L1) and Virgo (V1). But what does the data actually look like?\n",
    "\n",
    "To answer this question we are going to take a look at the first detection: **GW150914**. Let's load the data from L1"
   ]
  },
  {
   "cell_type": "code",
   "execution_count": null,
   "metadata": {},
   "outputs": [],
   "source": [
    "m = Merger('GW150914')\n",
    "ifo = 'L1'\n",
    "data = m.strain(ifo)"
   ]
  },
  {
   "cell_type": "markdown",
   "metadata": {},
   "source": [
    "**Exercise 1:** We can see that this object is a PyCBC timeseries, and as such you can check what their atributes are (see [here](https://pycbc.org/pycbc/latest/html/pycbc.types.html#module-pycbc.types.timeseries)). Let's check some of them. \n",
    "\n",
    "- How much is the duration of the time series?\n",
    "\n",
    "- How much is its sampling rate?\n",
    "\n",
    "- How many data points does it have?\n",
    "\n",
    "- How much is $\\Delta_{f}$ and $\\Delta_{t}$? Can you find a relation between these and the number of data points?"
   ]
  },
  {
   "cell_type": "markdown",
   "metadata": {},
   "source": [
    "_Hint:_ $\\Delta_{f} = 1/duration$ and  $\\Delta_{t} = 1/sample\\_rate$"
   ]
  },
  {
   "cell_type": "code",
   "execution_count": null,
   "metadata": {},
   "outputs": [],
   "source": []
  },
  {
   "cell_type": "markdown",
   "metadata": {},
   "source": [
    "The previous magnitudes are key parameters of the timeseries. Now, let's plot the actual data to see what it looks like."
   ]
  },
  {
   "cell_type": "code",
   "execution_count": null,
   "metadata": {},
   "outputs": [],
   "source": [
    "plt.plot(data.sample_times, data, label='Raw L1 data', color='cornflowerblue')\n",
    "plt.xlabel('GPS time (s)')\n",
    "plt.ylabel('Amplitude (dimensionless)')\n",
    "plt.legend()"
   ]
  },
  {
   "cell_type": "markdown",
   "metadata": {},
   "source": [
    "In GW we use the GPS time to determine at what time the GW signals reached Earth. You can see that the amplitude of this data is super small, $\\mathcal{O}(10^{-18})$! GW interferometers are able to detect a change in distance of ~1/10,000th the size of a proton. \n",
    "\n",
    "But, where is GW190514? We cannot see it (yet) as there are many different contributions from the detector. The detector has a given \"noise budget\" given  by the power spectral density (PSD), $S_{n}(f)$, according to its specific design. \n",
    "\n",
    "**Exercise 2**: Estimate the PSD of the data using `filter_psd` (see [here](https://pycbc.org/pycbc/latest/html/pycbc.types.html#pycbc.types.timeseries.TimeSeries.filter_psd)) and plot it. Limit your plot according to the minimum frequency (say, 1 Hz) and  the Nyquist frequency. "
   ]
  },
  {
   "cell_type": "markdown",
   "metadata": {},
   "source": [
    "_Hint_: Note that the PSD is a frequency series."
   ]
  },
  {
   "cell_type": "code",
   "execution_count": null,
   "metadata": {},
   "outputs": [],
   "source": []
  },
  {
   "cell_type": "markdown",
   "metadata": {},
   "source": [
    "The PSD shows us what are the different contributions of the detector noise.\n",
    "While we computed the PSD from 1 Hz, you can see that there is a weird behaviour for frequencies < 5 Hz. This is because the detector is not calibrated at these frequencies, so our analysis needs to start at higher frequencies. For current ground based detectors, we usually start at 10 Hz or higher, depending on the source.\n",
    "\n",
    "GW signals are tiny, so with this much noise we won't be able to see GW150914. To \"flatten\" all frequency contributions we whiten the data.\n",
    "\n",
    "**Exercise 3:** We can whiten the data with [this](https://pycbc.org/pycbc/latest/html/pycbc.types.html#pycbc.types.timeseries.TimeSeries.whiten) function. Use `segment_duration = 4` and `max_filter_duration=4`. \n",
    "\n",
    "- Plot the whitened data next to the raw detector noise. What differences can you see?\n",
    "\n",
    "- Estimate the PSD of the whitened data. Plot it in the same graph as the raw PSD. What differences can you see?\n"
   ]
  },
  {
   "cell_type": "code",
   "execution_count": null,
   "metadata": {},
   "outputs": [],
   "source": []
  },
  {
   "cell_type": "markdown",
   "metadata": {},
   "source": [
    "Now all frequency contributions are at the same level, as we can see from the PSD. However, GW150914 is still hidden in the data. \n",
    "\n",
    "\n",
    "**Exercise 4:** We can apply a [low pass filter](https://pycbc.org/pycbc/latest/html/pycbc.types.html#pycbc.types.timeseries.TimeSeries.lowpass_fir) and a [high pass filter](https://pycbc.org/pycbc/latest/html/pycbc.types.html#pycbc.types.timeseries.TimeSeries.highpass_fir) to limit the frequency of the data. The low pass filters above 250 Hz (order=512) and the high pass filters below 30 Hz (order=512).\n",
    "\n",
    "- Estimate the PSD of the bandpassed data and plot it together with the raw PSD and the whitened PSD. What is the bandpass doing?\n",
    "\n",
    "- Plot the bandpassed data [cropping](https://pycbc.org/pycbc/latest/html/pycbc.types.html#pycbc.types.timeseries.TimeSeries.crop) 12s on the left and 13s on the right. What can you see? Compare this to the raw data. What frequencies dominate in each case?"
   ]
  },
  {
   "cell_type": "code",
   "execution_count": null,
   "metadata": {},
   "outputs": [],
   "source": []
  },
  {
   "cell_type": "markdown",
   "metadata": {},
   "source": [
    "**Exercise 5:** Last but not least, we generate a spectrogram (time-frequency representation) using [this](https://pycbc.org/pycbc/latest/html/pycbc.types.html#pycbc.types.timeseries.TimeSeries.qtransform) function.\n",
    "\n",
    "_Hint_: logfsteps=200, qrange=(110, 110), frange=(20, 512), vmax=3.5 as it is standard"
   ]
  },
  {
   "cell_type": "code",
   "execution_count": null,
   "metadata": {},
   "outputs": [],
   "source": []
  },
  {
   "cell_type": "markdown",
   "metadata": {
    "id": "926l2hVPiLsf"
   },
   "source": [
    "As we have seen, the detector has a given \"noise budget\" given  by the power spectral density (PSD), $S_{n}(f)$, according to its specific design. Let's see how the detectors will improve in the next observing runs.\n",
    "\n",
    "**Bonus track:** From the `sensitivity_curves` folder [load](https://pycbc.org/pycbc/latest/html/pycbc.psd.html#pycbc.psd.read.from_txt) the PSD s:\n",
    "\n",
    "- Third observing run of H1: `aligo_O3actual_H1.txt`\n",
    "- Third observing run of L1: `aligo_O3actual_L1.txt`\n",
    "- Third observing run of V1: `avirgo_O3actual.txt`\n",
    "- Simulated fourth observing run of LIGO: `aligo_O4high.txt`\n",
    "\n",
    "Note that these PSDs are from [LIGO public website](https://dcc.ligo.org/ligo-t2000012/public). Also read the PSD of [Einstein Telescope](https://pycbc.org/pycbc/latest/html/pycbc.psd.html#pycbc.psd.analytical.EinsteinTelescopeP1600143) (ET) and [Cosmic Explorer](https://pycbc.org/pycbc/latest/html/pycbc.psd.html#pycbc.psd.analytical.CosmicExplorerP1600143) (CE)\n",
    "\n",
    "Plot all these PSDs. What can you say about ET and CE improvements?\n",
    "\n",
    "_Hint_: Minimum frequency is 10 Hz, sampling rate 8192 Hz and duration is 16s.\n"
   ]
  },
  {
   "cell_type": "code",
   "execution_count": null,
   "metadata": {
    "id": "_1cZ_M6HL73u"
   },
   "outputs": [],
   "source": []
  },
  {
   "cell_type": "markdown",
   "metadata": {
    "id": "wSYU6DFeFcpt"
   },
   "source": [
    "Good job! This is the end of the second part. Maybe you can go for a break?"
   ]
  },
  {
   "cell_type": "code",
   "execution_count": null,
   "metadata": {},
   "outputs": [],
   "source": []
  }
 ],
 "metadata": {
  "colab": {
   "provenance": []
  },
  "kernelspec": {
   "display_name": "gengli_env",
   "language": "python",
   "name": "gengli_env"
  },
  "language_info": {
   "codemirror_mode": {
    "name": "ipython",
    "version": 3
   },
   "file_extension": ".py",
   "mimetype": "text/x-python",
   "name": "python",
   "nbconvert_exporter": "python",
   "pygments_lexer": "ipython3",
   "version": "3.9.16"
  }
 },
 "nbformat": 4,
 "nbformat_minor": 4
}
