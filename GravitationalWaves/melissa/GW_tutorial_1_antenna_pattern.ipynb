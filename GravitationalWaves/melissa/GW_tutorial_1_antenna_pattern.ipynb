{
 "cells": [
  {
   "cell_type": "markdown",
   "metadata": {
    "id": "Oe9SQUuVgkEy"
   },
   "source": [
    "### GW tutorial 1: Ground-based antenna pattern and redshift horizon"
   ]
  },
  {
   "cell_type": "markdown",
   "metadata": {},
   "source": [
    "Author: Melissa Lopez\n",
    "\n",
    "Email: m.lopez@uu.nl"
   ]
  },
  {
   "cell_type": "code",
   "execution_count": null,
   "metadata": {
    "colab": {
     "base_uri": "https://localhost:8080/"
    },
    "id": "0NeSv96NLLDw",
    "outputId": "2c5a816d-0e6e-42ca-82eb-e7c2be870f8d"
   },
   "outputs": [],
   "source": [
    "import numpy as np\n",
    "import matplotlib.pyplot as plt\n",
    "import healpy as hp\n",
    "import cartopy.crs as ccrs\n",
    "import cartopy.feature as cfeature"
   ]
  },
  {
   "cell_type": "markdown",
   "metadata": {
    "id": "-MYeI1LZmFod"
   },
   "source": [
    "#### Network antenna patterns"
   ]
  },
  {
   "cell_type": "markdown",
   "metadata": {},
   "source": [
    "Interferometric detectors are omnidirectional antennas and have a good sensitivity over a large fraction of the sky. The output of the detector will be $h(t)$, which will respond to a passing gravitational wave (GW) as $h_{ij}(t, \\textbf{x})$. The general transfer function for GW detectors is\n",
    "\n",
    "\\begin{equation}\n",
    "\\label{eq:outputdetector}\n",
    "h(t, \\textbf{x}) = D^{ij}h_{ij}(t, \\textbf{x}),\n",
    "\\end{equation}\n",
    "where $D_{ij}$ is the detector tensor that depends on its geometry.\n",
    "For a ground-based detector, we can neglect the spatial dependence of the GW signal $h_{ij}(t, \\textbf{x})$, such that\n",
    "\n",
    "\\begin{equation}\n",
    "h_{ij}(t) = \\sum_{A=\\text{+}, \\times} e^{A}_{ij}(\\hat{\\textbf{n}}) h_{A}(t).\n",
    "\\end{equation}\n",
    "\n",
    "The direction of propagation of the wave is $\\hat{\\textbf{k}}$,  and  $e^{A}_{ij}$ the polarization tensor defined as\n",
    "\n",
    "\\begin{equation}\n",
    " e^{A}_{ij}(\\hat{\\textbf{k}}) = \n",
    "   \\begin{cases} \n",
    "      \\hat{\\textbf{u}}_{i}\\hat{\\textbf{u}}_{j} - \\hat{\\textbf{v}}_{i}\\hat{\\textbf{v}}_{j}              & \\mbox{for } A=\\text{+}   \\\\\n",
    "      \\hat{\\textbf{u}}_{i}\\hat{\\textbf{v}}_{j} + \\hat{\\textbf{v}}_{i}\\hat{\\textbf{u}}_{j}  & \\mbox{for } A=\\times\n",
    "   \\end{cases}\n",
    "\\end{equation}\n",
    "where $\\hat{\\textbf{u}} \\text{ and } \\hat{\\textbf{v}}$ are unit vectors orthogonal to $\\hat{\\textbf{k}}$. This would be the case when the polarization angle $\\psi$ is negligible, so to add this information we can rewrite the polarization tensor as,\n",
    "\n",
    "\n",
    "\\begin{equation}\n",
    " e^{rot, A}_{ij}(\\hat{\\textbf{k}}) = \n",
    "   \\begin{cases} \n",
    "      \\cos{(2\\psi)} e^{+}_{ij}(\\hat{\\textbf{k}}) - \\sin{(2\\psi)} e^{\\times}_{ij}(\\hat{\\textbf{k}})           & \\mbox{for } A=\\text{+}   \\\\\n",
    "      \\sin{(2\\psi)} e^{+}_{ij}(\\hat{\\textbf{k}}) + \\cos{(2\\psi)} e^{\\times}_{ij}(\\hat{\\textbf{k}})  & \\mbox{for } A=\\times\n",
    "   \\end{cases}\n",
    "\\end{equation}"
   ]
  },
  {
   "cell_type": "markdown",
   "metadata": {},
   "source": [
    "**Exercise 1:** create a function called `polarization_tensors` that returns $e_{ij}^{rot, A}(\\hat{\\textbf{k}})$  in the celestial frame for both polarizations as a function of the wave propagation $\\hat{\\textbf{k}}$ and the polarization angle $\\psi$. Also, create a function called `direction_propagation` that computes $\\hat{\\textbf{k}}(\\theta, \\phi) = [\\sin{\\theta} \\cos{\\phi}, \\sin{\\theta} \\sin{\\phi}, \\cos{\\theta}]$"
   ]
  },
  {
   "cell_type": "markdown",
   "metadata": {},
   "source": [
    "_Hint_: Given a unit sphere the unit vector orthogonal to $\\hat{\\textbf{k}}$ are $e_{\\theta} = [\\cos{\\theta}\\cos{\\phi}, \\cos{\\theta}\\sin{\\phi}, -\\sin{\\theta}]$ and $e_{\\phi} = [- \\sin{\\phi}, \\cos{\\phi}, 0]$"
   ]
  },
  {
   "cell_type": "code",
   "execution_count": null,
   "metadata": {},
   "outputs": [],
   "source": []
  },
  {
   "cell_type": "markdown",
   "metadata": {},
   "source": [
    "Now, we have the polarization tensors taking into account the polarization angle $\\psi$. However, this is in celestial coordinates and we need to rotate our vectors according to the local detector frame. \n",
    "\n",
    "**Exercise 2:** Assuming that a given detector is located at $(\\theta_{0}, \\phi_{0})$ write a function called rotation matrix."
   ]
  },
  {
   "cell_type": "markdown",
   "metadata": {},
   "source": [
    "_Hint_: we need to rotate the z-axis to account for $\\theta_0$ and to rotate the x-axis for $\\phi_{0}$, so that $R = R_{x}(\\pi/2 - \\phi_{0}) \\cdot R_{z}(\\pi /2 +\\theta_{0})$"
   ]
  },
  {
   "cell_type": "code",
   "execution_count": null,
   "metadata": {},
   "outputs": [],
   "source": []
  },
  {
   "cell_type": "markdown",
   "metadata": {},
   "source": [
    "So far we have computed the `R = rotation_matrix(theta_0, phi_0)`, the direction of propagation `k = direction_propagation(theta, phi)` and the polarization tensors $e_+$ and $e_{\\times}$ with the `polarization_tensors` function. Now, we have all the ingredients to calculate the antenna pattern.\n",
    "\n",
    "\n",
    "For an L shape detector such as current Advanced LIGO and Advanced Virgo the output of the detector the antenna pattern defined as $F = F_{+}^2 + F_{\\times}^{2}$ where\n",
    "\n",
    "$F_{+}(\\theta, \\phi, \\psi) = \\frac{1}{2}[(d_{x}^{T} e_{+}^{local} d_{x})- (d_{y}^{T} e_{+}^{local} d_{y})],$\n",
    "\n",
    "$F_{\\times}(\\theta, \\phi, \\psi) = \\frac{1}{2}[(d_{x}^{T} e_{\\times}^{local} d_{x})- (d_{y}^{T} e_{\\times}^{local} d_{y})].$\n",
    "\n",
    "Here, $d_{x}$ and $d_{y}$ are the directions of the detector arms in the local frame are defined as:\n",
    "$\n",
    "\\mathbf{d}_x = \n",
    "\\begin{bmatrix}\n",
    "\\cos\\alpha \\\\\n",
    "\\sin\\alpha \\\\\n",
    "0\n",
    "\\end{bmatrix},\n",
    "\\quad\n",
    "\\mathbf{d}_y = \n",
    "\\begin{bmatrix}\n",
    "-\\sin\\alpha \\\\\n",
    "\\cos\\alpha \\\\\n",
    "0\n",
    "\\end{bmatrix}.\n",
    "$\n",
    "\n",
    "**Excercise 3:** Create a function called `antenna_pattern(theta, phi, psi, theta_0, phi_0, alpha)`.\n"
   ]
  },
  {
   "cell_type": "markdown",
   "metadata": {},
   "source": [
    "_Hint:_ The wave propagation vector $\\mathbf{k}$ and polarization tensors $e_+$ and $e_\\times$ are transformed to the detector's local frame as follows:\n",
    "\n",
    "$\n",
    "\\mathbf{k}_\\text{local} = R \\cdot \\mathbf{k}(\\theta, \\phi),\n",
    "$\n",
    "\n",
    "$\n",
    "e_+^\\text{local} = R \\cdot e_+ \\cdot R^\\mathsf{T},\n",
    "$\n",
    "\n",
    "$\n",
    "e_\\times^\\text{local} = R \\cdot e_\\times \\cdot R^\\mathsf{T},\n",
    "$\n",
    "\n",
    "where $R^{T}$ denotes the transpose of the rotation matrix \\(R\\).\n",
    "\n"
   ]
  },
  {
   "cell_type": "code",
   "execution_count": null,
   "metadata": {},
   "outputs": [],
   "source": []
  },
  {
   "cell_type": "markdown",
   "metadata": {},
   "source": [
    "Alright, now let's see what this antenna pattern looks like. Below I coded a function to plot it (you are welcome). If everything looks fine it should look like the plot on the slides."
   ]
  },
  {
   "cell_type": "code",
   "execution_count": null,
   "metadata": {
    "id": "sQpo-zTkw-_w"
   },
   "outputs": [],
   "source": [
    "def plot_antenna_pattern(theta_0, phi_0, alpha, psi, nside=32):\n",
    "    \"\"\"\n",
    "    Plot the antenna pattern using Cartopy with Mollweide projection.\n",
    "    theta_0, phi_0: Detector location (longitude and latitude in radians)\n",
    "    alpha: Detector orientation (angle of x-arm relative to North in radians)\n",
    "    psi: Polarization angle\n",
    "    nside: Resolution parameter for the Healpix map\n",
    "    \"\"\"\n",
    "    npix = hp.nside2npix(nside)\n",
    "    antenna_map = np.zeros(npix)\n",
    "\n",
    "    # Compute the antenna pattern\n",
    "    for pix in range(npix):\n",
    "        theta, phi = hp.pix2ang(nside, pix)\n",
    "        antenna_map[pix] = antenna_pattern(theta, phi, psi, theta_0, phi_0, alpha)\n",
    "\n",
    "    # Healpy's pixel centers for plotting (convert to degrees)\n",
    "    lon, lat = hp.pix2ang(nside, np.arange(npix), lonlat=True)  # Lon/lat in degrees\n",
    "    lat = np.radians(lat)  # Convert latitude to radians for Cartopy\n",
    "    lon = np.radians(lon)  # Convert longitude to radians for Cartopy\n",
    "\n",
    "    # Create a Mollweide plot using Cartopy\n",
    "    fig = plt.figure(figsize=(12, 6), dpi=120)\n",
    "    ax = fig.add_subplot(1, 1, 1, projection=ccrs.Mollweide())\n",
    "\n",
    "    # Plot the antenna pattern on Cartopy map\n",
    "    pc = ax.scatter(lon * 180 / np.pi, lat * 180 / np.pi, c=antenna_map, cmap=\"viridis\", s=5, transform=ccrs.PlateCarree())\n",
    "    \n",
    "    # Add coastlines and gridlines\n",
    "    ax.coastlines(color='black', linewidth=0.5)\n",
    "    ax.set_global()\n",
    "    gl = ax.gridlines(crs=ccrs.PlateCarree(), draw_labels=False,\n",
    "                      linewidth=0.5, color='dimgrey', alpha=0.5)\n",
    "\n",
    "    # Add colorbar\n",
    "    cbar = fig.colorbar(pc, orientation=\"horizontal\", shrink=0.7)\n",
    "    cbar.set_label(\"Antenna Pattern Response\")\n",
    "    plt.show()\n",
    "\n",
    "\n",
    "# Detector location: LIGO Livingston\n",
    "lat = 30  # Latitude in degrees\n",
    "lon = -90  # Longitude in degrees\n",
    "yangle = 160.0  # Y-arm orientation in degrees (clockwise from North)\n",
    "\n",
    "# Convert to radians for computation\n",
    "theta_0 = np.radians(lon)\n",
    "phi_0 = np.radians(lat)\n",
    "alpha = np.radians(yangle - 90)  # Convert Y-arm to x-arm orientation\n",
    "psi = 0  # Polarization angle\n",
    "\n",
    "plot_antenna_pattern(theta_0, phi_0, alpha, psi)\n"
   ]
  },
  {
   "cell_type": "markdown",
   "metadata": {
    "colab": {
     "base_uri": "https://localhost:8080/"
    },
    "id": "Vdg0S4Os4530",
    "outputId": "2f52252b-9a01-4ce0-e7df-9d4ce8a3fb49"
   },
   "source": [
    "Good job! You are almost at the end of the first part. Now, what can you tell me about the \"blind\" spots of the detector? Where are they located? Where is the best place to see a gravitational wave?\n",
    "\n",
    "**Excersice 4:** What about other detectors? Can you remake this plot? See details below:\n",
    "\n",
    "- _LIGO Hanford:_ lat = 46.45, lon = -119.41, yangle = 171.8\n",
    "\n",
    "- _Virgo:_ lat = 43.63, lon = 10.5, yangle = 250.0"
   ]
  },
  {
   "cell_type": "code",
   "execution_count": null,
   "metadata": {},
   "outputs": [],
   "source": []
  },
  {
   "cell_type": "markdown",
   "metadata": {},
   "source": [
    "Do you want a curiosity about the detection of the first binary neutron star? [Here](https://dcc.ligo.org/public/0146/G1701985/001/bayestar_no_virgo.png) is the sky map. Where is it located? What can Virgo see? Is it a good thing or a bad thing?"
   ]
  },
  {
   "cell_type": "code",
   "execution_count": null,
   "metadata": {
    "id": "wSYU6DFeFcpt"
   },
   "outputs": [],
   "source": []
  }
 ],
 "metadata": {
  "colab": {
   "provenance": []
  },
  "kernelspec": {
   "display_name": "gengli_env",
   "language": "python",
   "name": "gengli_env"
  },
  "language_info": {
   "codemirror_mode": {
    "name": "ipython",
    "version": 3
   },
   "file_extension": ".py",
   "mimetype": "text/x-python",
   "name": "python",
   "nbconvert_exporter": "python",
   "pygments_lexer": "ipython3",
   "version": "3.9.16"
  }
 },
 "nbformat": 4,
 "nbformat_minor": 4
}
