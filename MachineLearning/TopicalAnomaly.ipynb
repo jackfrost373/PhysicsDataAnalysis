{
  "nbformat": 4,
  "nbformat_minor": 0,
  "metadata": {
    "colab": {
      "name": "TopicalAnomaly",
      "provenance": [],
      "collapsed_sections": []
    },
    "kernelspec": {
      "name": "python3",
      "display_name": "Python 3"
    },
    "language_info": {
      "name": "python"
    },
    "accelerator": "GPU"
  },
  "cells": [
    {
      "cell_type": "markdown",
      "source": [
        "# Anomaly detection exercise\n",
        "\n",
        "We would like to investigate putting an 'anomalous event' detection algorithm in the trigger of a particle physics collider experiment. For this purpose, we will use a 'background' or 'Standard Model' dataset, on which we will train our algorithm to learn about 'normal events'. Then we will apply it to a dataset containing 'abnormal' or 'New Physics' events, containing new particle decays, and see if our algorithm can detect them as being 'abnormal'. Finally, as we're triggering in real time ('online'), we will check the timing of our algorithm.\n",
        "\n",
        "## Datasets\n",
        "Datasets were generated in the context of an online reference / competition, and currently consist of A->4 leptons, leptoquarks -> b tau, h0 -> tau tau, and h+ -> tau nu, pick your favourite New Physics case (or try them all!)\n",
        "\n",
        "## Environment\n",
        "The default environment will be **Google Colab**. You can also make use of the Nikhef in-house jupterlab service **Callysto** at https://callysto.nikhef.nl where you can customize your environment following https://wiki.nikhef.nl/ct/Jupyterlab. You can also run your own jupyter instance locally.\n",
        "\n",
        "**TIP**: to speed up learining in Google Colab, enable hardware acceleration with GPUs by going to \\\\\n",
        "`Runtime > Change runtime type > Hardware accelerator > GPU`.\n",
        "\n",
        "*As prepared by, with full credits to,* https://mpp-hep.github.io/ADC2021/ \\\\\n",
        "*(Edited by jdevries)*\n"
      ],
      "metadata": {
        "id": "qfE7gjeCfAh9"
      }
    },
    {
      "cell_type": "code",
      "source": [
        "env = \"COLAB\"\n",
        "#env = \"CALLYSTO\""
      ],
      "metadata": {
        "id": "T65gsYoSDNsP"
      },
      "execution_count": 1,
      "outputs": []
    },
    {
      "cell_type": "code",
      "source": [
        "if(env == \"CALLYSTO\") :\n",
        "  !pip install h5py tensorflow sklearn"
      ],
      "metadata": {
        "id": "nLvHstp8DR0w"
      },
      "execution_count": 2,
      "outputs": []
    },
    {
      "cell_type": "code",
      "execution_count": 3,
      "metadata": {
        "id": "nendY3RScwdh"
      },
      "outputs": [],
      "source": [
        "import numpy as np\n",
        "import h5py\n",
        "import math\n",
        "import os\n",
        "import pathlib\n",
        "import matplotlib.pyplot as plt\n",
        "import matplotlib\n",
        "%matplotlib inline\n",
        "import tensorflow as tf\n",
        "import tensorflow.keras as keras\n",
        "from tensorflow.keras.models import Model\n",
        "from tensorflow.keras.layers import Input, Dense,ZeroPadding2D, BatchNormalization, Activation, Layer, ReLU, LeakyReLU,Conv2D,AveragePooling2D,UpSampling2D,Reshape,Flatten\n",
        "from tensorflow.keras import backend as K\n",
        "\n",
        "import argparse\n",
        "from sklearn.model_selection import train_test_split"
      ]
    },
    {
      "cell_type": "code",
      "source": [
        "# Download datasets. These are cleared when deleting the runtime.\n",
        "#  If connection is too slow: they are also hosted on stoomboot at /data/bfys/jdevries/public\n",
        "\n",
        "# Background (Standard Model) dataset\n",
        "bkg_file = \"background_for_training.h5\"\n",
        "if not os.path.exists(bkg_file) :\n",
        "  !wget https://zenodo.org/record/5046389/files/background_for_training.h5\n",
        "\n",
        "# Anomaly dataset: choose your favourite New Physics candidate from https://mpp-hep.github.io/ADC2021/\n",
        "signal_file = 'leptoquark_LOWMASS_lepFilter_13TeV.h5'\n",
        "if not os.path.exists(signal_file) :\n",
        "  !wget https://zenodo.org/record/5055454/files/leptoquark_LOWMASS_lepFilter_13TeV.h5\n",
        "\n",
        "!ls"
      ],
      "metadata": {
        "colab": {
          "base_uri": "https://localhost:8080/"
        },
        "id": "gqJypQnOgdfH",
        "outputId": "58ee8c35-20c8-46e3-99cc-ba18e6a9f56d"
      },
      "execution_count": 4,
      "outputs": [
        {
          "output_type": "stream",
          "name": "stdout",
          "text": [
            "background_for_training.h5\t       myAnomalyModel.h5    SM_dataset.h5\n",
            "leptoquark_LOWMASS_lepFilter_13TeV.h5  myAnomalyModel.json\n",
            "LQ_dataset.h5\t\t\t       sample_data\n"
          ]
        }
      ]
    },
    {
      "cell_type": "code",
      "source": [
        "# Must be TF version 2\n",
        "print(tf.__version__)"
      ],
      "metadata": {
        "colab": {
          "base_uri": "https://localhost:8080/"
        },
        "id": "2WaIwysoc7jk",
        "outputId": "7d3b0a2c-2051-41a5-89c3-87e0271ad1dc"
      },
      "execution_count": 5,
      "outputs": [
        {
          "output_type": "stream",
          "name": "stdout",
          "text": [
            "2.8.2\n"
          ]
        }
      ]
    },
    {
      "cell_type": "code",
      "source": [
        "# define some data handling functions\n",
        "\n",
        "def load_model(model_name, custom_objects=None):\n",
        "    name = model_name + '.json'\n",
        "    json_file = open(name, 'r')\n",
        "    loaded_model_json = json_file.read()\n",
        "    json_file.close()\n",
        "    model = model_from_json(loaded_model_json, custom_objects=custom_objects)\n",
        "    model.load_weights(model_name + '.h5')\n",
        "    return model\n",
        "\n",
        "def save_model(model_save_name, model):\n",
        "    with open(model_save_name + '.json', 'w') as json_file:\n",
        "        json_file.write(model.to_json())\n",
        "    model.save_weights(model_save_name + '.h5')\n",
        "\n",
        "\n",
        "def create_datasets_dense(bkg_file, output_bkg_name, signals_files, output_signal_names, events=None, test_size=0.2, val_size=0.2, input_shape=57):\n",
        "    \n",
        "    # read BACKGROUND data\n",
        "    with h5py.File(bkg_file, 'r') as file:\n",
        "        full_data = file['Particles'][:,:,:-1]\n",
        "        np.random.shuffle(full_data)\n",
        "        if events: full_data = full_data[:events,:,:]\n",
        "    \n",
        "    # define training, test and validation datasets\n",
        "    X_train, X_test = train_test_split(full_data, test_size=test_size, shuffle=True)\n",
        "    X_train, X_val = train_test_split(X_train, test_size=val_size)\n",
        "\n",
        "    del full_data\n",
        "    \n",
        "    # flatten the data for model input\n",
        "    X_train = X_train.reshape(X_train.shape[0], input_shape)\n",
        "    X_test = X_test.reshape(X_test.shape[0], input_shape)\n",
        "    X_val = X_val.reshape(X_val.shape[0], input_shape)\n",
        "    \n",
        "    with h5py.File(output_bkg_name + '_dataset.h5', 'w') as h5f:\n",
        "        h5f.create_dataset('X_train', data = X_train)\n",
        "        h5f.create_dataset('X_test', data = X_test)\n",
        "        h5f.create_dataset('X_val', data = X_val)\n",
        "    \n",
        "    if signals_files:\n",
        "        # read SIGNAL data\n",
        "        for i, signal_file in enumerate(signals_files):\n",
        "            f = h5py.File(signal_file,'r')\n",
        "            signal_data = f['Particles'][:,:,:-1]\n",
        "            signal_data = signal_data.reshape(signal_data.shape[0],input_shape)\n",
        "            with h5py.File(output_signal_names[i] + '_dataset.h5', 'w') as h5f2:\n",
        "                h5f2.create_dataset('Data', data = signal_data)        \n",
        "    return"
      ],
      "metadata": {
        "id": "hqK24NUbdCrr"
      },
      "execution_count": 6,
      "outputs": []
    },
    {
      "cell_type": "code",
      "source": [
        "# Create numpy arrays from datasets for easy handling\n",
        "\n",
        "output_bkg_name = 'SM'\n",
        "output_sig_name = 'LQ'\n",
        "filename_bkg = output_bkg_name + '_dataset.h5'\n",
        "filename_sig = output_sig_name + '_dataset.h5'\n",
        "events = 1000000\n",
        "\n",
        "if not os.path.exists(filename_sig) :\n",
        "  create_datasets_dense(bkg_file, output_bkg_name, [signal_file], [output_sig_name], events)"
      ],
      "metadata": {
        "id": "K2QLepa3dcqF"
      },
      "execution_count": 7,
      "outputs": []
    },
    {
      "cell_type": "code",
      "source": [
        "# load background training data\n",
        "with h5py.File(filename_bkg, 'r') as file:\n",
        "    X_train = np.array(file['X_train'])\n",
        "    X_test  = np.array(file['X_test'])\n",
        "    X_val   = np.array(file['X_val'])\n",
        "\n",
        "print(X_train.shape)\n",
        "X_train = np.reshape(X_train, (-1, 19,3,1))\n",
        "X_test  = np.reshape(X_test,  (-1, 19,3,1))\n",
        "X_val   = np.reshape(X_val,   (-1, 19,3,1))\n",
        "\n",
        "print(X_train.shape)"
      ],
      "metadata": {
        "colab": {
          "base_uri": "https://localhost:8080/"
        },
        "id": "SUpOBsmCey_G",
        "outputId": "668c9641-c54c-46bd-ba6f-dfb706dcfc26"
      },
      "execution_count": 8,
      "outputs": [
        {
          "output_type": "stream",
          "name": "stdout",
          "text": [
            "(640000, 57)\n",
            "(640000, 19, 3, 1)\n"
          ]
        }
      ]
    },
    {
      "cell_type": "markdown",
      "source": [
        "We have now loaded the Standard Model (SM) dataset as train, test and validation random splits. \n",
        "\n",
        "The data contains the **19** most interesting 'particles' per collision event:\n",
        "- 'missing transverse energy' object (`MET`)\n",
        "- 4 electrons\n",
        "- 4 muons\n",
        "- 10 jets\n",
        "\n",
        "which are ordered by `p_T`, from high to low, and might be zero-padded in case there are fewer particles of that type in the event.\n",
        "\n",
        "For each 'particle' there are **3** features in the dataset: \n",
        "- transverse momentum (`p_T`)\n",
        "- pseudorapidity 'angle' (`eta`)\n",
        "- azimuthal angle (`phi`)\n"
      ],
      "metadata": {
        "id": "wnHpLOPumiJc"
      }
    },
    {
      "cell_type": "code",
      "source": [
        "# For example, let's draw the pT of the highest-pT muon in all training events\n",
        "\n",
        "plt.hist( [ event[5, 0][0] for event in X_train ], bins=100, range=[1, 80] )\n",
        "plt.xlabel(\"p_T [GeV/c]\")"
      ],
      "metadata": {
        "colab": {
          "base_uri": "https://localhost:8080/",
          "height": 297
        },
        "id": "3eCS8GOxpqyE",
        "outputId": "8da9f6d5-b361-4db4-cfa2-9adc4e272dc5"
      },
      "execution_count": 9,
      "outputs": [
        {
          "output_type": "execute_result",
          "data": {
            "text/plain": [
              "Text(0.5, 0, 'p_T [GeV/c]')"
            ]
          },
          "metadata": {},
          "execution_count": 9
        },
        {
          "output_type": "display_data",
          "data": {
            "text/plain": [
              "<Figure size 432x288 with 1 Axes>"
            ],
            "image/png": "[encoded data removed]"
          },
          "metadata": {
            "needs_background": "light"
          }
        }
      ]
    },
    {
      "cell_type": "markdown",
      "source": [
        "# Define NN architecture\n",
        "\n",
        "For anomaly detection, we want our algorithm to **only** see the SM dataset to learn about normal, 'non-anomalous' behavior. After training/testing/validation, we then want to move on to the new physics dataset (e.g. leptoquarks) - and see how it performs in labelling that input as 'anomalous'."
      ],
      "metadata": {
        "id": "Mw2T50f4e63N"
      }
    },
    {
      "cell_type": "code",
      "source": [
        "image_shape = (19,3,1)"
      ],
      "metadata": {
        "id": "G_KRfIievEuA"
      },
      "execution_count": 10,
      "outputs": []
    },
    {
      "cell_type": "code",
      "source": [
        "\n",
        "### HERE GOES YOUR WORK ###\n",
        "\n",
        "# Write your preferred anomaly detection algorithm here\n",
        "#  that takes as input something of shape=(image_shape)\n",
        "#  and as output something that is relevant for your algorithm, e.g. \n",
        "#  - a value in the N-dimensional hyperspace of your clustering, \n",
        "#  - the 'latent space' of your autoencoder (and the original image after the decoder)\n",
        "#  - ...\n",
        "\n",
        "# Trivial autoencoder example (to get you going):\n",
        "latent_dimension = 8\n",
        "\n",
        "#encoder\n",
        "input_encoder = Input(shape=(image_shape))\n",
        "x = Conv2D(10, kernel_size=(3, 3),\n",
        "         use_bias=False, data_format='channels_last', padding='same')(input_encoder)\n",
        "x = AveragePooling2D(pool_size = (2, 1))(x)\n",
        "x = BatchNormalization()(x)\n",
        "x = Activation('relu')(x)\n",
        "x = Flatten()(x)\n",
        "x = Dense(latent_dimension)(x)\n",
        "enc = Activation('relu')(x)\n",
        "encoder = Model(inputs=input_encoder, outputs=enc)\n",
        "\n",
        "#decoder\n",
        "x = Dense(270)(enc)\n",
        "x = Activation('relu')(x)\n",
        "x = Reshape((9,3,10))(x)\n",
        "x = UpSampling2D((2, 1))(x)\n",
        "x = ZeroPadding2D(((1, 0),(0,0)))(x)\n",
        "x = Conv2D(1, kernel_size=(3,3), use_bias=False, data_format='channels_last', padding='same')(x)\n",
        "x = BatchNormalization()(x)\n",
        "dec = Activation('relu')(x)\n",
        "\n",
        "autoencoder = Model(inputs=input_encoder, outputs=dec)\n",
        "autoencoder.summary()"
      ],
      "metadata": {
        "colab": {
          "base_uri": "https://localhost:8080/"
        },
        "id": "jJu9Q1L9e7eA",
        "outputId": "876e0627-ca0e-41df-f810-93508319f142"
      },
      "execution_count": 11,
      "outputs": [
        {
          "output_type": "stream",
          "name": "stdout",
          "text": [
            "Model: \"model_1\"\n",
            "_________________________________________________________________\n",
            " Layer (type)                Output Shape              Param #   \n",
            "=================================================================\n",
            " input_1 (InputLayer)        [(None, 19, 3, 1)]        0         \n",
            "                                                                 \n",
            " conv2d (Conv2D)             (None, 19, 3, 10)         90        \n",
            "                                                                 \n",
            " average_pooling2d (AverageP  (None, 9, 3, 10)         0         \n",
            " ooling2D)                                                       \n",
            "                                                                 \n",
            " batch_normalization (BatchN  (None, 9, 3, 10)         40        \n",
            " ormalization)                                                   \n",
            "                                                                 \n",
            " activation (Activation)     (None, 9, 3, 10)          0         \n",
            "                                                                 \n",
            " flatten (Flatten)           (None, 270)               0         \n",
            "                                                                 \n",
            " dense (Dense)               (None, 8)                 2168      \n",
            "                                                                 \n",
            " activation_1 (Activation)   (None, 8)                 0         \n",
            "                                                                 \n",
            " dense_1 (Dense)             (None, 270)               2430      \n",
            "                                                                 \n",
            " activation_2 (Activation)   (None, 270)               0         \n",
            "                                                                 \n",
            " reshape (Reshape)           (None, 9, 3, 10)          0         \n",
            "                                                                 \n",
            " up_sampling2d (UpSampling2D  (None, 18, 3, 10)        0         \n",
            " )                                                               \n",
            "                                                                 \n",
            " zero_padding2d (ZeroPadding  (None, 19, 3, 10)        0         \n",
            " 2D)                                                             \n",
            "                                                                 \n",
            " conv2d_1 (Conv2D)           (None, 19, 3, 1)          90        \n",
            "                                                                 \n",
            " batch_normalization_1 (Batc  (None, 19, 3, 1)         4         \n",
            " hNormalization)                                                 \n",
            "                                                                 \n",
            " activation_3 (Activation)   (None, 19, 3, 1)          0         \n",
            "                                                                 \n",
            "=================================================================\n",
            "Total params: 4,822\n",
            "Trainable params: 4,800\n",
            "Non-trainable params: 22\n",
            "_________________________________________________________________\n"
          ]
        }
      ]
    },
    {
      "cell_type": "code",
      "source": [
        "autoencoder.compile(optimizer = keras.optimizers.Adam(), loss='mse')"
      ],
      "metadata": {
        "id": "DaLm6dHttYEa"
      },
      "execution_count": 12,
      "outputs": []
    },
    {
      "cell_type": "code",
      "source": [
        "EPOCHS = 10\n",
        "BATCH_SIZE = 1024"
      ],
      "metadata": {
        "id": "ipdmjbKlHpF3"
      },
      "execution_count": 13,
      "outputs": []
    },
    {
      "cell_type": "code",
      "source": [
        "# Train model\n",
        "history = autoencoder.fit(X_train, X_train, epochs = EPOCHS, batch_size = BATCH_SIZE,\n",
        "                  validation_data=(X_val, X_val))"
      ],
      "metadata": {
        "colab": {
          "base_uri": "https://localhost:8080/"
        },
        "id": "GZEqAf1UHrb6",
        "outputId": "faee80ce-5a81-435f-a7fd-c97150e02114"
      },
      "execution_count": 14,
      "outputs": [
        {
          "output_type": "stream",
          "name": "stdout",
          "text": [
            "Epoch 1/10\n",
            "625/625 [==============================] - 9s 6ms/step - loss: 64.3654 - val_loss: 55.5387\n",
            "Epoch 2/10\n",
            "625/625 [==============================] - 3s 5ms/step - loss: 52.4524 - val_loss: 47.6854\n",
            "Epoch 3/10\n",
            "625/625 [==============================] - 3s 4ms/step - loss: 43.5577 - val_loss: 38.4012\n",
            "Epoch 4/10\n",
            "625/625 [==============================] - 3s 4ms/step - loss: 36.1345 - val_loss: 31.5064\n",
            "Epoch 5/10\n",
            "625/625 [==============================] - 3s 4ms/step - loss: 29.7308 - val_loss: 25.7864\n",
            "Epoch 6/10\n",
            "625/625 [==============================] - 3s 4ms/step - loss: 24.1457 - val_loss: 20.7536\n",
            "Epoch 7/10\n",
            "625/625 [==============================] - 3s 4ms/step - loss: 19.2669 - val_loss: 16.4523\n",
            "Epoch 8/10\n",
            "625/625 [==============================] - 3s 4ms/step - loss: 15.0602 - val_loss: 12.6137\n",
            "Epoch 9/10\n",
            "625/625 [==============================] - 3s 4ms/step - loss: 11.4727 - val_loss: 9.3947\n",
            "Epoch 10/10\n",
            "625/625 [==============================] - 3s 4ms/step - loss: 8.4707 - val_loss: 6.5941\n"
          ]
        }
      ]
    },
    {
      "cell_type": "code",
      "source": [
        "# Save model\n",
        "model_name = 'myAnomalyModel'\n",
        "save_model(model_name, autoencoder)\n",
        "!ls"
      ],
      "metadata": {
        "colab": {
          "base_uri": "https://localhost:8080/"
        },
        "id": "u2L2isk4HxzH",
        "outputId": "9bc9112e-d67c-43cc-ab1c-71a59839a685"
      },
      "execution_count": 15,
      "outputs": [
        {
          "output_type": "stream",
          "name": "stdout",
          "text": [
            "background_for_training.h5\t       myAnomalyModel.h5    SM_dataset.h5\n",
            "leptoquark_LOWMASS_lepFilter_13TeV.h5  myAnomalyModel.json\n",
            "LQ_dataset.h5\t\t\t       sample_data\n"
          ]
        }
      ]
    },
    {
      "cell_type": "code",
      "source": [
        "# Test model on the remainder of our Standard Model dataset, this is our 'reference performance'.\n",
        "%%time\n",
        "print(\"Running predictions for {0} bkg events\".format(len(X_test)))\n",
        "bkg_prediction = autoencoder.predict(X_test)"
      ],
      "metadata": {
        "colab": {
          "base_uri": "https://localhost:8080/"
        },
        "id": "y5cWTHcvH9ju",
        "outputId": "27dc857d-10d7-43c5-d56d-f4150059d752"
      },
      "execution_count": 29,
      "outputs": [
        {
          "output_type": "stream",
          "name": "stdout",
          "text": [
            "Running predictions for 200000 bkg events\n",
            "CPU times: user 11.7 s, sys: 875 ms, total: 12.6 s\n",
            "Wall time: 20.6 s\n"
          ]
        }
      ]
    },
    {
      "cell_type": "markdown",
      "source": [
        "# Running on the anomalous data\n",
        "\n",
        "Here we run the 'new physics' data through our trained algorithm, and save the relevant output."
      ],
      "metadata": {
        "id": "tYHSNIPkIq5-"
      }
    },
    {
      "cell_type": "code",
      "source": [
        "# Obtain the anomalous signal datasets\n",
        "with h5py.File(filename_sig) as file :\n",
        "  signal_data = np.array(file['Data'])\n",
        "\n",
        "signal_data = np.reshape(signal_data, (-1, 19,3,1))"
      ],
      "metadata": {
        "id": "luC9KFijJuyE"
      },
      "execution_count": 22,
      "outputs": []
    },
    {
      "cell_type": "code",
      "source": [
        "# Run model predictions on anomalous signal\n",
        "%%time\n",
        "print(\"Running predictions for {0} sig events\".format(len(signal_data)))\n",
        "sig_prediction = autoencoder.predict(signal_data)"
      ],
      "metadata": {
        "colab": {
          "base_uri": "https://localhost:8080/"
        },
        "id": "LKRYbNT3Is4G",
        "outputId": "50209b34-ad3f-4488-e5ad-0927ce28de4c"
      },
      "execution_count": 36,
      "outputs": [
        {
          "output_type": "stream",
          "name": "stdout",
          "text": [
            "Running predictions for 340544 sig events\n",
            "CPU times: user 18 s, sys: 1.37 s, total: 19.4 s\n",
            "Wall time: 15.2 s\n"
          ]
        }
      ]
    },
    {
      "cell_type": "code",
      "source": [
        "# Save results\n",
        "save_file = 'myAnomalyModel_results'\n",
        "\n",
        "with h5py.File(save_file, 'w') as file:\n",
        "    file.create_dataset('BKG_input', data=X_test)\n",
        "    file.create_dataset('BKG_predicted', data = bkg_prediction)\n",
        "    file.create_dataset('SIG_input', data=signal_data)\n",
        "    file.create_dataset('SIG_predicted' , data=sig_prediction)"
      ],
      "metadata": {
        "id": "xsK17pA8Mz-6"
      },
      "execution_count": 37,
      "outputs": []
    },
    {
      "cell_type": "markdown",
      "source": [
        "# Evaluation of performance\n",
        "\n",
        "Here is where you assess the metric of performance of your algorithm. \n",
        "\n",
        "For an autoencoder, the 'score' would be *How well can I reconstruct the original image back?*. This would be 'pretty good' if the image is similar to the training data, and 'not so good' if the data looks like something new. As this performance is characterised by the loss function, this is what we will be looking at.\n",
        "\n",
        "For other methods this can be different. For instance, for a Restricted Boltzmann machine it could be the 'Energy', for kernel methods / clustering methods / one-class support vector machines, some 'distance' in some output space, and so on. For your algorithm, consider what it should be doing, and evaluate performance accordingly."
      ],
      "metadata": {
        "id": "ZBcbC62XO_2e"
      }
    },
    {
      "cell_type": "code",
      "source": [
        "def mse_loss(true, prediction):\n",
        "    loss = tf.reduce_mean(tf.math.square(true - prediction),axis=-1)\n",
        "    return loss"
      ],
      "metadata": {
        "id": "SKYuFCIcPCbv"
      },
      "execution_count": 34,
      "outputs": []
    },
    {
      "cell_type": "code",
      "source": [
        "# compute loss value (true, predicted)\n",
        "data_labels = [\"SM\", \"LQ\"]\n",
        "\n",
        "total_loss = []\n",
        "total_loss.append(mse_loss(X_test.reshape((X_test.shape[0],X_test.shape[1]*X_test.shape[2])),\\\n",
        "                           (bkg_prediction.reshape((bkg_prediction.shape[0],bkg_prediction.shape[1]*bkg_prediction.shape[2]))).astype(np.float32)).numpy())\n",
        "total_loss.append(mse_loss(signal_data.reshape((signal_data.shape[0],signal_data.shape[1]*signal_data.shape[2])),\\\n",
        "                           (sig_prediction.reshape((sig_prediction.shape[0],sig_prediction.shape[1]*sig_prediction.shape[2]))).astype(np.float32)).numpy())"
      ],
      "metadata": {
        "id": "ilacjl60PM5N"
      },
      "execution_count": 41,
      "outputs": []
    },
    {
      "cell_type": "code",
      "source": [
        "bin_size=100\n",
        "\n",
        "plt.figure(figsize=(10,8))\n",
        "for i, label in enumerate(data_labels):\n",
        "    plt.hist(total_loss[i], bins=bin_size, label=label, density = True, histtype='step', fill=False, linewidth=1.5)\n",
        "plt.yscale('log')\n",
        "plt.xlabel(\"Autoencoder Loss\")\n",
        "plt.ylabel(\"Probability (a.u.)\")\n",
        "plt.title('MSE loss')\n",
        "plt.legend(loc='best')\n",
        "plt.show()"
      ],
      "metadata": {
        "colab": {
          "base_uri": "https://localhost:8080/",
          "height": 513
        },
        "id": "qiPNE5YSQ2kP",
        "outputId": "34f1c89d-96ed-4384-edad-39d4a2f88d85"
      },
      "execution_count": 42,
      "outputs": [
        {
          "output_type": "display_data",
          "data": {
            "text/plain": [
              "<Figure size 720x576 with 1 Axes>"
            ],
            "image/png": "[encoded data removed]"
          },
          "metadata": {
            "needs_background": "light"
          }
        }
      ]
    },
    {
      "cell_type": "markdown",
      "source": [
        "# When is something anomalous?\n",
        "\n",
        "In order to define something as being 'anomalous', we have to decide on a 'cut point' in the metric defined above. In the case of an autoencoder, we could place a cut on a certain value of the loss: anything higher than, say, 1500, could be considered anomalous. \n",
        "\n",
        "In order to assess the performance regardless of the cut point, we can make a ROC curve - this evaluates the 'true' anomaly rate as function of the 'false' anomaly rate.\n",
        "\n",
        "The area under this curve ('AUC') is a generic metric for comparing performances between models."
      ],
      "metadata": {
        "id": "dW9jZE0FSRSz"
      }
    },
    {
      "cell_type": "code",
      "source": [
        "from sklearn.metrics import roc_curve, auc"
      ],
      "metadata": {
        "id": "sQXUAw9RRLvQ"
      },
      "execution_count": 44,
      "outputs": []
    },
    {
      "cell_type": "code",
      "source": [
        "labels = np.concatenate([['Standard Model'], ['Leptoquark']])"
      ],
      "metadata": {
        "id": "5Q3FP6ACStui"
      },
      "execution_count": 46,
      "outputs": []
    },
    {
      "cell_type": "code",
      "source": [
        "target_background = np.zeros(total_loss[0].shape[0])\n",
        "\n",
        "plt.figure(figsize=(10,8))\n",
        "for i, label in enumerate(labels):    \n",
        "    trueVal = np.concatenate((np.ones(total_loss[i].shape[0]), target_background)) # anomaly=1, bkg=0\n",
        "    predVal_loss = np.concatenate((total_loss[i], total_loss[0]))\n",
        "    fpr_loss, tpr_loss, threshold_loss = roc_curve(trueVal, predVal_loss)\n",
        "    auc_loss = auc(fpr_loss, tpr_loss)\n",
        "    \n",
        "    plt.plot(fpr_loss, tpr_loss, \"-\", label='%s (auc = %.1f%%)'%(label,auc_loss*100.), linewidth=1.5)\n",
        "    #plt.semilogx()\n",
        "    #plt.semilogy()\n",
        "    plt.ylabel(\"True Positive Rate\")\n",
        "    plt.xlabel(\"False Positive Rate\")\n",
        "    plt.legend(loc='center right')\n",
        "    plt.grid(True)\n",
        "    plt.tight_layout()\n",
        "\n",
        "plt.plot(np.linspace(0, 1),np.linspace(0, 1), '--', color='0.75')\n",
        "plt.title(\"ROC AE\")\n",
        "plt.show()"
      ],
      "metadata": {
        "colab": {
          "base_uri": "https://localhost:8080/",
          "height": 601
        },
        "id": "FYYlKKLcS0QT",
        "outputId": "de7a1fd4-e1d6-46c1-f84f-37786fddfd79"
      },
      "execution_count": 50,
      "outputs": [
        {
          "output_type": "display_data",
          "data": {
            "text/plain": [
              "<Figure size 720x576 with 1 Axes>"
            ],
            "image/png": "[encoded data removed]"
          },
          "metadata": {
            "needs_background": "light"
          }
        }
      ]
    },
    {
      "cell_type": "markdown",
      "source": [
        "# How to improve\n",
        "\n",
        "Now, it's up to you to improve. Can you\n",
        "- Improve upon the model, to enhance the AUC score? Can you change the model to a different approach, such as a restricted Boltzmann machine or a one-class support vector machine? (And change the 'when is something anomalous' metric accordingly)\n",
        "- Improve the timing of the inference/prediction so it is viable to run in the trigger, without causing too much AUC loss? Can you make a plot of the AUC vs the time of various approaches?\n",
        "- Add the other anomalous datasets in this challenge, and compare how well you can identify e.g. anomalous charged higgs events vs leptoquarks? Maybe some are easier to detect than others?"
      ],
      "metadata": {
        "id": "G2ljCXgcaAPa"
      }
    }
  ]
}